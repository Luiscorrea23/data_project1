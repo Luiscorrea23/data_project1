{
 "cells": [
  {
   "cell_type": "markdown",
   "id": "6a2b102c",
   "metadata": {},
   "source": [
    "# Analisis de datos de aplicaciones moviles\n",
    "\n",
    "El objetivo para este proyecto es analizar datos para ayudar a nuestros desarrolladores a comprender qué tipo de aplicaciones es probable que atraigan a más usuarios."
   ]
  },
  {
   "cell_type": "code",
   "execution_count": null,
   "id": "8c9214b1",
   "metadata": {},
   "outputs": [],
   "source": [
    "import csv\n",
    "def opened_file (ruta_csv):\n",
    "    open_file = open (ruta_csv)\n",
    "    from csv import reader\n",
    "    read_file = reader(open_file)\n",
    "    all_data = list(read_file)\n",
    "    return all_data"
   ]
  },
  {
   "cell_type": "code",
   "execution_count": null,
   "id": "13bc4d26",
   "metadata": {},
   "outputs": [],
   "source": [
    "def explore_data(dataset, start, end, rows_and_columns=False):\n",
    "    dataset_slice = dataset[start:end]    \n",
    "    for row in dataset_slice:\n",
    "        print(row)\n",
    "        print('\\n') # adds a new (empty) line after each row\n",
    "\n",
    "    if rows_and_columns:\n",
    "        print('Number of rows:', len(dataset))\n",
    "        print('Number of columns:', len(dataset[0]))"
   ]
  },
  {
   "cell_type": "code",
   "execution_count": null,
   "id": "3612657b",
   "metadata": {},
   "outputs": [],
   "source": [
    "app_data_appstore = opened_file(\"/Users/luiscorrea/Documents/AppleStore/AppleStore.csv\")"
   ]
  },
  {
   "cell_type": "code",
   "execution_count": null,
   "id": "ce1b5dc3",
   "metadata": {},
   "outputs": [],
   "source": [
    "app_data_playstore = opened_file (\"/Users/luiscorrea/Documents/GooglePlayStore/googleplaystore.csv\")"
   ]
  },
  {
   "cell_type": "code",
   "execution_count": null,
   "id": "57a73b9d",
   "metadata": {},
   "outputs": [],
   "source": [
    "explore_data(app_data_appstore,0,1,True)"
   ]
  },
  {
   "cell_type": "code",
   "execution_count": null,
   "id": "fb97d776",
   "metadata": {},
   "outputs": [],
   "source": [
    "explore_data(app_data_playstore,0,1,True)"
   ]
  },
  {
   "cell_type": "markdown",
   "id": "bd1e1c5e",
   "metadata": {},
   "source": [
    "# Columnas que usaremos para cumplir con el objetivo propuesto al inicio del proyecto\n",
    "\n",
    "## Para el caso de AppleStore\n",
    "\n",
    "1. user_rating\n",
    "2. prime_genre\n",
    "3. price\n",
    "4. rating_count_tot\n",
    "\n",
    "## Para el caso de Playstore\n",
    "\n",
    "1. Rating\n",
    "2. Category\n",
    "3. Price\n",
    "4. Reviews\n",
    "5. Type"
   ]
  },
  {
   "cell_type": "code",
   "execution_count": null,
   "id": "b2d0a480",
   "metadata": {},
   "outputs": [],
   "source": []
  },
  {
   "cell_type": "markdown",
   "id": "d27deaa5",
   "metadata": {},
   "source": [
    "## Detect_error_row\n",
    "Esta función detecta si hay datos faltantes en cada fila del data_set. \n",
    "Si la longitud del encabezado es diferente a alguna de las filas. \n",
    "\n",
    "Imprime la fila y el indice de la fila que tiene error. "
   ]
  },
  {
   "cell_type": "code",
   "execution_count": null,
   "id": "4c9070c5",
   "metadata": {},
   "outputs": [],
   "source": [
    "def detect_error_row(data_set):\n",
    "    for row in data_set:\n",
    "        fila = row\n",
    "        list_error = []\n",
    "        if len(fila) != len(data_set[0]):\n",
    "                list_error.append(fila)\n",
    "                print(fila)\n",
    "                print(data_set.index(fila))"
   ]
  },
  {
   "cell_type": "code",
   "execution_count": null,
   "id": "d9b56e48",
   "metadata": {},
   "outputs": [],
   "source": [
    "filas_errores = detect_error_row(app_data_playstore)\n",
    "del app_data_playstore[10473]"
   ]
  },
  {
   "cell_type": "code",
   "execution_count": null,
   "id": "b71e8484",
   "metadata": {},
   "outputs": [],
   "source": []
  },
  {
   "cell_type": "markdown",
   "id": "0efb870f",
   "metadata": {},
   "source": [
    "## Entradas duplicadas\n",
    "\n",
    "El conjunto de datos de PlayStore contiene Entradas duplicadas, esto dificulta el estado del analisis. "
   ]
  },
  {
   "cell_type": "markdown",
   "id": "b322e392",
   "metadata": {},
   "source": [
    "# unique_and_duplicate_apps\n",
    "\n",
    "Esta función nos permite extraer todas las entradas que se duplican en nuestro conjunto de datos. "
   ]
  },
  {
   "cell_type": "code",
   "execution_count": null,
   "id": "0735b90c",
   "metadata": {},
   "outputs": [],
   "source": [
    "unique_rows = []\n",
    "duplicate_rows = []\n",
    "claves_filas_duplicadas = {}\n",
    "def unique_and_duplicate_apps(data_set):\n",
    "    for app in data_set[1:]:\n",
    "        name = app[0]\n",
    "        if name in unique_rows:\n",
    "            duplicate_rows.append(name)\n",
    "        else:\n",
    "            unique_rows.append(name)\n",
    "            \n"
   ]
  },
  {
   "cell_type": "markdown",
   "id": "73a6a6b3",
   "metadata": {},
   "source": [
    "## Ejemplos de Entradas duplicadas\n",
    "\n",
    "El conjunto de datos de PlayStore contiene Entradas duplicadas, esto dificulta el estado del analisis. \n",
    "A continuación mostraremos algunas de las entradas duplicadas"
   ]
  },
  {
   "cell_type": "code",
   "execution_count": null,
   "id": "7dfd59c2",
   "metadata": {},
   "outputs": [],
   "source": [
    "unique_and_duplicate_apps (app_data_playstore)\n",
    "print(duplicate_rows[:10])"
   ]
  },
  {
   "cell_type": "markdown",
   "id": "ee61ee36",
   "metadata": {},
   "source": [
    "## Entradas totales duplicadas\n",
    "\n",
    "Mostraremos en pantalla el total de entradas duplicadas\n"
   ]
  },
  {
   "cell_type": "code",
   "execution_count": null,
   "id": "81d4a3c1",
   "metadata": {},
   "outputs": [],
   "source": [
    "print(len(duplicate_rows))"
   ]
  },
  {
   "cell_type": "markdown",
   "id": "a33d6d6e",
   "metadata": {},
   "source": [
    "## Metodo de limpieza \n",
    "\n",
    "A continuación procederemos a eliminar todas las entradas duplicadas.\n",
    "Lo importante es que no lo haremos al Azar. \n",
    "Nos quedaremos con la entrada que tenga mas Reviews"
   ]
  },
  {
   "cell_type": "markdown",
   "id": "22ad1791",
   "metadata": {},
   "source": [
    "# reviews_max and def dict_entrada_value\n",
    "\n",
    "reviews_max: es una lista vacia, que eventualmente, va a almacenar como clave el \"name app\" y como valor \"Reviews app\". \n",
    "\n",
    "dic_entrada_value: \n",
    "1. esta función como como entrada un data_set y recorre el data_set excluyendo el encabezado\n",
    "2. Extrae el name = Nombre de la App\n",
    "3. Extrae n_reviews = Reviews de la App\n",
    "4. Condiciona: Si el name existe en reviews_max y el valor de reviews_max[name] es menor que (n_reviews). Si esto pasa, nos actualiza el valor de la App es decir, nos deja el mismo nombre de la app pero con el Maximo de Reviews. reviews_max[name] =  n_reviews\n",
    "5. Condiciona: Si name no existe en reviews_max, crea una nueva clave(name):valor(n_reviews) en reviews_max. reviews_max[name] = n_reviews"
   ]
  },
  {
   "cell_type": "code",
   "execution_count": null,
   "id": "fed2a564",
   "metadata": {},
   "outputs": [],
   "source": [
    "reviews_max = {}\n",
    "print(app_data_playstore[0])\n",
    "def dict_entrada_value (data_set): \n",
    "    for app in data_set[1:]:\n",
    "        name = app[0]\n",
    "        n_reviews = float(app[3])\n",
    "        if name in reviews_max and reviews_max[name] < n_reviews:\n",
    "            reviews_max[name] =  n_reviews\n",
    "        if name not in reviews_max:\n",
    "            reviews_max[name] = n_reviews\n"
   ]
  },
  {
   "cell_type": "markdown",
   "id": "db23370a",
   "metadata": {},
   "source": [
    "## Aca podemos visualizar cual es el resultado de la función y como reviews_max contine el nombre de la app y los maximo reviews que ha tenido la app\n",
    "\n",
    "Ademas, imprimiremos la longitud de review_max, la cual contiene nuestro data_set sin duplicados. \n",
    "\n",
    "print(reviews_max, len(reviews_max))\n"
   ]
  },
  {
   "cell_type": "code",
   "execution_count": null,
   "id": "d331ab39",
   "metadata": {},
   "outputs": [],
   "source": [
    "dict_entrada_value(app_data_playstore)\n",
    "print(reviews_max, len(reviews_max))"
   ]
  },
  {
   "cell_type": "markdown",
   "id": "d215c32b",
   "metadata": {},
   "source": [
    "## Ahoraa queremos almacenar nuestro data_set sin duplicados\n",
    "\n",
    "Para eso crearemos:\n",
    "1. android_clean : Almacenara la lista sin duplicados \n",
    "2. already_added : Almacenara solo los nombres de la app. Valores unicos, sin duplicados. \n",
    "\n",
    "Luego recorremos el data_set:\n",
    "1. name : Extraemos el nombre de la App\n",
    "2. n_reviews : Extraemos los Reviews de la App \n",
    "Condicion: \n",
    "Si n_reviews es igual al valor en el diccionario reviews_max[name] y adenás name no existe en already_added (Para confirmar que no tenemos un valor duplicado. \n",
    "\n",
    "Si estas dos condiciones se cumplen: \n",
    "1. Agregamos la fila entera con todos los datos de la App a android_clean. Usamos android_clean.append(app)\n",
    "2. Agregamos solo el nombre de la App a android_clean. Usamos already_added.append(name)\n",
    "\n",
    "Para entender lo enterior: if n_reviews == reviews_max[name] and name not in already_added:\n",
    "\n",
    "Primero nos aseguramos de que nuestra lista contendra el numero mayor de Reveiws de cada app. Sabemos que eso ya lo hemos conseguido en nuestro diccionario reviews_max[name], por lo cual solo tenemos que asegurarnos que n_reviews y reviews_max[name] sean iguales. \n",
    "\n",
    "Luego name not in already_added tiene una función clave. Esto nos comprueba que no estemos agregando una fia duplicada. Si name ya existirera en already_added no se agrega la fila. \n",
    "\n",
    "Esto nos permite saber que siempre se agregan valores unicos a android_clean"
   ]
  },
  {
   "cell_type": "code",
   "execution_count": null,
   "id": "54d7dcf8",
   "metadata": {},
   "outputs": [],
   "source": [
    "android_clean = []\n",
    "already_added = []\n",
    "\n",
    "for app in app_data_playstore[1:]:\n",
    "    name = app[0]\n",
    "    n_reviews = float(app[3])\n",
    "    if n_reviews == reviews_max[name] and name not in already_added:\n",
    "        android_clean.append(app)\n",
    "        already_added.append(name)"
   ]
  },
  {
   "cell_type": "markdown",
   "id": "49529ace",
   "metadata": {},
   "source": [
    "## Ahora solo nos queda confirmar que todo salio como esperamos. \n",
    "Sabemos con certeza que reviews_max contiene valores unicos. \n",
    "\n",
    "Entonces ahora para validar, solo tenemos que saber si la longitud de\n",
    "android_clean es igual a la longitud de already_added"
   ]
  },
  {
   "cell_type": "code",
   "execution_count": null,
   "id": "0577de3c",
   "metadata": {},
   "outputs": [],
   "source": [
    "if len(reviews_max) == len(android_clean):\n",
    "    print(\"Todo salio como esperamos\")"
   ]
  },
  {
   "cell_type": "markdown",
   "id": "e45e6524",
   "metadata": {},
   "source": [
    "## Esta funcion detecta si el nombre de la amplicación esta en ingles\n",
    "\n",
    "Si el nombre de la aplicación esta en ingles, agrega la fila entera a una lista. \n",
    "\n",
    "Esta lista sera la data_set con solo apps en ingles. "
   ]
  },
  {
   "cell_type": "code",
   "execution_count": null,
   "id": "d610b7ad",
   "metadata": {},
   "outputs": [],
   "source": [
    "app_ingles_ios = []\n",
    "app_ingles_android = []\n",
    "def caracter_in_text_ios(data_set, index_name):\n",
    "    for row in data_set[1:]:\n",
    "        name = row[index_name]\n",
    "        if ord(name[:1]) < 127:\n",
    "            app_ingles_ios.append(row)            \n",
    "def caracter_in_text_android(data_set, index_name):\n",
    "    for row in data_set[1:]:\n",
    "        name = row[index_name]\n",
    "        if ord(name[:1]) < 127:\n",
    "            app_ingles_android.append(row)            "
   ]
  },
  {
   "cell_type": "code",
   "execution_count": null,
   "id": "9c83e7ba",
   "metadata": {},
   "outputs": [],
   "source": [
    "caracter_in_text_ios(app_data_appstore,1)\n",
    "print(app_ingles_ios[:20], len(app_ingles_ios))"
   ]
  },
  {
   "cell_type": "code",
   "execution_count": null,
   "id": "fa8c37c2",
   "metadata": {},
   "outputs": [],
   "source": [
    "caracter_in_text_android(android_clean,0)\n",
    "print(app_ingles_android[:20], len(app_ingles_android))"
   ]
  },
  {
   "cell_type": "markdown",
   "id": "919e18f8",
   "metadata": {},
   "source": [
    "## Nuestro estudio se basa solo en aplicaciones gratuitas. \n",
    "Por eso vamos a extraer solo las apps que sean gratuitas"
   ]
  },
  {
   "cell_type": "code",
   "execution_count": null,
   "id": "49084a8a",
   "metadata": {},
   "outputs": [],
   "source": [
    "clean_android_final = []\n",
    "for row in app_ingles_android:\n",
    "    price = float(row[7].replace(\"$\",\"\"))\n",
    "    if price == 0.0:\n",
    "        clean_android_final.append(row)\n",
    "        \n",
    "        \n",
    "print(clean_android_final, len(clean_android_final))\n",
    "    \n",
    "    "
   ]
  },
  {
   "cell_type": "markdown",
   "id": "e7b7aecc",
   "metadata": {},
   "source": [
    "## Nuestro estudio se basa solo en aplicaciones gratuitas. \n",
    "Por eso vamos a extraer solo las apps que sean gratuitas"
   ]
  },
  {
   "cell_type": "code",
   "execution_count": null,
   "id": "3c1d7df7",
   "metadata": {},
   "outputs": [],
   "source": [
    "clean_ios_final = []\n",
    "for row in app_ingles_ios:\n",
    "    price = float(row[4].replace('$',''))\n",
    "    if price <= 0.0:\n",
    "        clean_ios_final.append(row)\n",
    "        \n",
    "        \n",
    "print(clean_ios_final, len(clean_ios_final))"
   ]
  },
  {
   "cell_type": "code",
   "execution_count": null,
   "id": "694d68cd",
   "metadata": {},
   "outputs": [],
   "source": []
  },
  {
   "cell_type": "markdown",
   "id": "acb799f0",
   "metadata": {},
   "source": [
    "## En pantalla imprimimos el numero de apps gratuita de cada tienda de apps"
   ]
  },
  {
   "cell_type": "code",
   "execution_count": null,
   "id": "08c7abaa",
   "metadata": {},
   "outputs": [],
   "source": [
    "print(\"Apps ios free:\", len(clean_ios_final), \"apps_android_free: \",len(clean_android_final))"
   ]
  },
  {
   "cell_type": "markdown",
   "id": "0d42cf0e",
   "metadata": {},
   "source": [
    "## Ahora vamos a detectar cuales son los generos mas comunes en el mercado. \n",
    "Una manera de averiguar de minimizar el riesgo al crear una app, puede ser utilizar generos mas comunes. "
   ]
  },
  {
   "cell_type": "code",
   "execution_count": null,
   "id": "c60e59c4",
   "metadata": {},
   "outputs": [],
   "source": [
    "def freq_table (data_set, index):\n",
    "    dic_frequency = {}\n",
    "    for app in data_set:\n",
    "        genre = app[index]\n",
    "        if genre in dic_frequency:\n",
    "            dic_frequency[genre] += 1\n",
    "        else:\n",
    "            dic_frequency[genre] = 1\n",
    "            \n",
    "    for row in dic_frequency:\n",
    "        dic_frequency[row] /= len(dic_frequency)\n",
    "            \n",
    "    return dic_frequency\n",
    "        "
   ]
  },
  {
   "cell_type": "code",
   "execution_count": null,
   "id": "344ab054",
   "metadata": {},
   "outputs": [],
   "source": [
    "def display_table(dataset, index):\n",
    "    table = freq_table(dataset, index)\n",
    "    table_display = []\n",
    "    for key in table:\n",
    "        key_val_as_tuple = (table[key], key)\n",
    "        table_display.append(key_val_as_tuple)\n",
    "\n",
    "    table_sorted = sorted(table_display, reverse = True)\n",
    "    for entry in table_sorted:\n",
    "        print(entry[1], ':', entry[0])\n",
    "    return table_display"
   ]
  },
  {
   "cell_type": "code",
   "execution_count": null,
   "id": "2f325966",
   "metadata": {},
   "outputs": [],
   "source": [
    "genres_ios = display_table(clean_ios_final,-5)"
   ]
  },
  {
   "cell_type": "code",
   "execution_count": null,
   "id": "86dbad59",
   "metadata": {},
   "outputs": [],
   "source": [
    "genres_android = display_table(clean_android_final,-4)"
   ]
  },
  {
   "cell_type": "code",
   "execution_count": null,
   "id": "7bf7e554",
   "metadata": {},
   "outputs": [],
   "source": [
    "category_android = display_table(clean_android_final,1)"
   ]
  },
  {
   "cell_type": "markdown",
   "id": "eba1ec5f",
   "metadata": {},
   "source": [
    "# Analisis Appstore\n",
    "\n",
    "## ¿Cuál es el género más común? ¿Cuál es el siguiente más común? \n",
    "\n",
    "El genero mas comun es \"Games\" y el siguiente \"Education\"\n",
    "\n",
    "## Cuál es la impresión general? ¿La mayoría de las aplicaciones están diseñadas con fines prácticos (educación, compras, servicios públicos, productividad, estilo de vida) o más para entretenimiento (juegos, fotos y videos, redes sociales, deportes, música)?\n",
    "\n",
    "La mayoria de las aplicaciones estan diseñadas con fines de Entretenimiento. \n",
    "\n",
    "## ¿Puede recomendar un perfil de aplicación para el mercado de la App Store basado solo en esta tabla de frecuencias? Si hay una gran cantidad de aplicaciones para un género en particular, ¿eso también implica que las aplicaciones de ese género generalmente tienen una gran cantidad de usuarios?\n",
    "\n",
    "Aunque esta claro que el genero mas comun es \"Games\", con los datos actuales no podriamos determinar si el genero tiene o no una gran cantidad de usuarios\n"
   ]
  },
  {
   "cell_type": "markdown",
   "id": "53b0a755",
   "metadata": {},
   "source": [
    "# Analisis playstore\n",
    "\n",
    "## ¿Cuáles son los géneros más comunes?\n",
    "\n",
    "Los generos mas comunes son \"Family\" y \"Games\"\n",
    "Las categorias mas comunes son \"Tools\" y \"Games\"\n",
    "\n",
    "## ¿Qué otros patrones ves?\n",
    "\n",
    "Tanto en categoria como en genero, Games entre los dos mas comunes. \n",
    "No podria definir exactamente que tan general puede ser el genero \"Family\". \n",
    "\n",
    "\n",
    "## Compare los patrones que ve para el mercado de Google Play con los que vio para el mercado de la App Store. ¿Puedes recomendar un perfil de aplicación basado en lo que encontraste hasta ahora? ¿Las tablas de frecuencia que generó revelan los géneros de aplicaciones más frecuentes o qué géneros tienen más usuarios?\n",
    "\n",
    "Las tablas de frecuencias actuales solo muestran cuales son las apps mas comunes. No toma en consideración la cantidad de usuarios de dicha categoria. \n",
    "\n",
    "Basandonos en el dato principal que conocemos hasta el momento, que son los generos mas comunes. Notemos que \"Games\" esta en ambas tiendas de apps entre los dos mas comunes. \n",
    "\n",
    "Por lo cual, si quisiera desarrollar un perfil que tenga un posible exito en ambas tiendas, apostaria por el genero \"Games\". "
   ]
  },
  {
   "cell_type": "code",
   "execution_count": null,
   "id": "7e454d71",
   "metadata": {},
   "outputs": [],
   "source": [
    "def table_freq_final_ios(data_set, index, index_rating_installs):\n",
    "    genres = freq_table(data_set, index)\n",
    "    for genre in genres:\n",
    "        total = 0\n",
    "        len_genre = 0 \n",
    "        for row in clean_ios_final:\n",
    "            genre_app = row[index]\n",
    "            if genre == genre_app:\n",
    "                rating_install = float(row[index_rating_installs])\n",
    "                total += rating_install\n",
    "                len_genre +=1                    \n",
    "        promedio_installs_valoraciones_genre = total/len_genre\n",
    "        print(genre, \": \", promedio_installs_valoraciones_genre )"
   ]
  },
  {
   "cell_type": "code",
   "execution_count": null,
   "id": "8d8f01b6",
   "metadata": {},
   "outputs": [],
   "source": [
    "ios_installs_genre = table_freq_final_ios(clean_ios_final, -5, 5)"
   ]
  },
  {
   "cell_type": "code",
   "execution_count": null,
   "id": "4bab4150",
   "metadata": {},
   "outputs": [],
   "source": [
    "def table_freq_final_android(data_set, index, index_rating_installs):\n",
    "    genres = freq_table(data_set, index)\n",
    "    for genre in genres:\n",
    "        total = 0\n",
    "        len_genre = 0 \n",
    "        for row in clean_android_final:\n",
    "            genre_app = row[index]\n",
    "            if genre == genre_app:\n",
    "                rating_install = float(row[index_rating_installs].replace(\"+\",\"\").replace(\",\",\"\"))\n",
    "                total += rating_install\n",
    "                len_genre +=1                    \n",
    "        promedio_installs_valoraciones_genre = total/len_genre\n",
    "        print(genre, \": \", promedio_installs_valoraciones_genre )"
   ]
  },
  {
   "cell_type": "markdown",
   "id": "fa5b5ec9",
   "metadata": {},
   "source": [
    "## En el caso de la playstore\n",
    "\n",
    "Tomando en cuenta los resultados tanto en Genero y Categoria. \n",
    "El perfil recomendado seria de Herramientas orientadas al diseño/fotogragia/creatividad. "
   ]
  },
  {
   "cell_type": "code",
   "execution_count": null,
   "id": "085cf98a",
   "metadata": {},
   "outputs": [],
   "source": [
    "android_installs_genre = table_freq_final_android(clean_android_final, -4, 5)"
   ]
  },
  {
   "cell_type": "code",
   "execution_count": null,
   "id": "169320cb",
   "metadata": {},
   "outputs": [],
   "source": [
    "android_installs_category = table_freq_final_android(clean_android_final, 1, 5)"
   ]
  },
  {
   "cell_type": "markdown",
   "id": "05242e32",
   "metadata": {},
   "source": [
    "## En el caso de la Appstore\n",
    "\n",
    "Segun los resultados obtenidos en la tabla de frecuencia, recomendaria un perfil orientado al entretenimiento. "
   ]
  },
  {
   "cell_type": "code",
   "execution_count": null,
   "id": "040297a9",
   "metadata": {},
   "outputs": [],
   "source": [
    "android_installs_category = table_freq_final_android(clean_android_final, 1, 5)"
   ]
  },
  {
   "cell_type": "code",
   "execution_count": null,
   "id": "526a5c0e",
   "metadata": {},
   "outputs": [],
   "source": []
  },
  {
   "cell_type": "code",
   "execution_count": null,
   "id": "f8f3d1f1",
   "metadata": {},
   "outputs": [],
   "source": []
  },
  {
   "cell_type": "code",
   "execution_count": null,
   "id": "f374e6d2",
   "metadata": {},
   "outputs": [],
   "source": []
  },
  {
   "cell_type": "code",
   "execution_count": null,
   "id": "8f8c50b4",
   "metadata": {},
   "outputs": [],
   "source": []
  },
  {
   "cell_type": "code",
   "execution_count": null,
   "id": "7724dd81",
   "metadata": {},
   "outputs": [],
   "source": []
  },
  {
   "cell_type": "code",
   "execution_count": null,
   "id": "a933a3e8",
   "metadata": {},
   "outputs": [],
   "source": []
  },
  {
   "cell_type": "code",
   "execution_count": null,
   "id": "d25957ce",
   "metadata": {},
   "outputs": [],
   "source": []
  },
  {
   "cell_type": "code",
   "execution_count": null,
   "id": "f6707282",
   "metadata": {},
   "outputs": [],
   "source": []
  },
  {
   "cell_type": "code",
   "execution_count": null,
   "id": "2e1c81a0",
   "metadata": {},
   "outputs": [],
   "source": []
  },
  {
   "cell_type": "code",
   "execution_count": null,
   "id": "7c4e692a",
   "metadata": {},
   "outputs": [],
   "source": []
  },
  {
   "cell_type": "code",
   "execution_count": null,
   "id": "75ed9725",
   "metadata": {},
   "outputs": [],
   "source": []
  }
 ],
 "metadata": {
  "kernelspec": {
   "display_name": "Python 3 (ipykernel)",
   "language": "python",
   "name": "python3"
  },
  "language_info": {
   "codemirror_mode": {
    "name": "ipython",
    "version": 3
   },
   "file_extension": ".py",
   "mimetype": "text/x-python",
   "name": "python",
   "nbconvert_exporter": "python",
   "pygments_lexer": "ipython3",
   "version": "3.9.7"
  }
 },
 "nbformat": 4,
 "nbformat_minor": 5
}
